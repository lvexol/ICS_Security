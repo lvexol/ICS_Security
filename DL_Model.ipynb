{
 "cells": [
  {
   "cell_type": "code",
   "execution_count": 1,
   "metadata": {},
   "outputs": [],
   "source": [
    "import os\n",
    "import pandas as pd\n",
    "import numpy as np\n",
    "import torch\n",
    "import torch.nn as nn\n",
    "import torch.optim as optim\n",
    "from sklearn.preprocessing import StandardScaler\n",
    "from torch.utils.data import DataLoader, TensorDataset"
   ]
  },
  {
   "cell_type": "code",
   "execution_count": 2,
   "metadata": {},
   "outputs": [],
   "source": [
    "# ---------- CONFIGURATION ----------\n",
    "preprocessed_folder = \"/home/smartdragon/Videos/SWAT/SWaT.A1 & A2_Dec 2015/Data\"  # Same folder where preprocessed batches were saved\n",
    "output_folder = \"/home/smartdragon/Videos/SWAT/SWaT.A1 & A2_Dec 2015/Data/Results\"\n",
    "os.makedirs(output_folder, exist_ok=True)"
   ]
  },
  {
   "cell_type": "code",
   "execution_count": 3,
   "metadata": {},
   "outputs": [],
   "source": [
    "batch_files = sorted([os.path.join(preprocessed_folder, f) for f in os.listdir(preprocessed_folder) if f.startswith(\"preprocessed_batch_\")])"
   ]
  },
  {
   "cell_type": "code",
   "execution_count": 4,
   "metadata": {},
   "outputs": [],
   "source": [
    "# ---------- Autoencoder Model ----------\n",
    "class Autoencoder(nn.Module):\n",
    "    def __init__(self, input_dim):\n",
    "        super(Autoencoder, self).__init__()\n",
    "        self.encoder = nn.Sequential(\n",
    "            nn.Linear(input_dim, 32),\n",
    "            nn.ReLU(),\n",
    "            nn.Linear(32, 16),\n",
    "            nn.ReLU(),\n",
    "            nn.Linear(16, 8),\n",
    "            nn.ReLU()\n",
    "        )\n",
    "        self.decoder = nn.Sequential(\n",
    "            nn.Linear(8, 16),\n",
    "            nn.ReLU(),\n",
    "            nn.Linear(16, 32),\n",
    "            nn.ReLU(),\n",
    "            nn.Linear(32, input_dim),\n",
    "            nn.Sigmoid()\n",
    "        )\n",
    "\n",
    "    def forward(self, x):\n",
    "        encoded = self.encoder(x)\n",
    "        decoded = self.decoder(encoded)\n",
    "        return decoded"
   ]
  },
  {
   "cell_type": "code",
   "execution_count": 5,
   "metadata": {},
   "outputs": [],
   "source": [
    "# ---------- Training Function ----------\n",
    "def train_autoencoder(model, dataloader, epochs=30, device=\"cpu\"):\n",
    "    criterion = nn.MSELoss()\n",
    "    optimizer = optim.Adam(model.parameters(), lr=0.001)\n",
    "\n",
    "    model.train()\n",
    "    for epoch in range(epochs):\n",
    "        epoch_loss = 0\n",
    "        for data in dataloader:\n",
    "            inputs = data[0].to(device)\n",
    "            optimizer.zero_grad()\n",
    "            outputs = model(inputs)\n",
    "            loss = criterion(outputs, inputs)\n",
    "            loss.backward()\n",
    "            optimizer.step()\n",
    "            epoch_loss += loss.item()\n",
    "        print(f\"Epoch [{epoch+1}/{epochs}] Loss: {epoch_loss/len(dataloader):.6f}\")"
   ]
  },
  {
   "cell_type": "code",
   "execution_count": 6,
   "metadata": {},
   "outputs": [],
   "source": [
    "# ---------- Batchwise Processing ----------\n",
    "device = torch.device(\"cuda\" if torch.cuda.is_available() else \"cpu\")"
   ]
  },
  {
   "cell_type": "code",
   "execution_count": null,
   "metadata": {},
   "outputs": [
    {
     "name": "stdout",
     "output_type": "stream",
     "text": [
      "\n",
      "🔹 Processing Batch 1: /home/smartdragon/Videos/SWAT/SWaT.A1 & A2_Dec 2015/Data/preprocessed_batch_1.csv\n",
      "Epoch [1/30] Loss: 0.813959\n",
      "Epoch [2/30] Loss: 0.810594\n",
      "Epoch [3/30] Loss: 0.810574\n",
      "Epoch [4/30] Loss: 0.810660\n",
      "Epoch [5/30] Loss: 0.794926\n",
      "Epoch [6/30] Loss: 0.766134\n",
      "Epoch [7/30] Loss: 0.766114\n",
      "Epoch [8/30] Loss: 0.766122\n",
      "Epoch [9/30] Loss: 0.766148\n",
      "Epoch [10/30] Loss: 0.766114\n",
      "Epoch [11/30] Loss: 0.766115\n",
      "Epoch [12/30] Loss: 0.766111\n",
      "Epoch [13/30] Loss: 0.766171\n",
      "Epoch [14/30] Loss: 0.766292\n",
      "Epoch [15/30] Loss: 0.766300\n",
      "Epoch [16/30] Loss: 0.766298\n",
      "Epoch [17/30] Loss: 0.766296\n",
      "Epoch [18/30] Loss: 0.766295\n",
      "Epoch [19/30] Loss: 0.766295\n",
      "Epoch [20/30] Loss: 0.766294\n",
      "Epoch [21/30] Loss: 0.766122\n",
      "Epoch [22/30] Loss: 0.766100\n",
      "Epoch [23/30] Loss: 0.766101\n",
      "Epoch [24/30] Loss: 0.766101\n",
      "Epoch [25/30] Loss: 0.766100\n",
      "Epoch [26/30] Loss: 0.766103\n",
      "Epoch [27/30] Loss: 0.766116\n",
      "Epoch [28/30] Loss: 0.766179\n",
      "Epoch [29/30] Loss: 0.766154\n",
      "Epoch [30/30] Loss: 0.766090\n",
      "✅ Model for Batch 1 saved to /home/smartdragon/Videos/SWAT/SWaT.A1 & A2_Dec 2015/Data/Results/autoencoder_batch_1.pt\n",
      "✅ Anomaly results for Batch 1 saved to /home/smartdragon/Videos/SWAT/SWaT.A1 & A2_Dec 2015/Data/Results/anomaly_results_batch_1.csv\n",
      "🔔 Detected 346463 anomalies out of 6929245 rows in Batch 1\n",
      "\n",
      "🔹 Processing Batch 2: /home/smartdragon/Videos/SWAT/SWaT.A1 & A2_Dec 2015/Data/preprocessed_batch_10.csv\n",
      "Epoch [1/30] Loss: 0.824717\n",
      "Epoch [2/30] Loss: 0.819955\n",
      "Epoch [3/30] Loss: 0.819883\n",
      "Epoch [4/30] Loss: 0.819851\n",
      "Epoch [5/30] Loss: 0.819834\n",
      "Epoch [6/30] Loss: 0.819829\n"
     ]
    }
   ],
   "source": [
    "for batch_num, batch_file in enumerate(batch_files, 1):\n",
    "    print(f\"\\n🔹 Processing Batch {batch_num}: {batch_file}\")\n",
    "\n",
    "    # Load Data\n",
    "    df = pd.read_csv(batch_file)\n",
    "    scaler = StandardScaler()\n",
    "    X_scaled = scaler.fit_transform(df)\n",
    "\n",
    "    # Convert to PyTorch Dataset\n",
    "    X_tensor = torch.tensor(X_scaled, dtype=torch.float32)\n",
    "    dataloader = DataLoader(TensorDataset(X_tensor), batch_size=256, shuffle=True)\n",
    "\n",
    "    # Initialize Autoencoder\n",
    "    input_dim = X_tensor.shape[1]\n",
    "    autoencoder = Autoencoder(input_dim).to(device)\n",
    "\n",
    "    # Train Autoencoder\n",
    "    train_autoencoder(autoencoder, dataloader, epochs=30, device=device)\n",
    "\n",
    "    # Save Model\n",
    "    model_path = os.path.join(output_folder, f\"autoencoder_batch_{batch_num}.pt\")\n",
    "    torch.save(autoencoder.state_dict(), model_path)\n",
    "    print(f\"✅ Model for Batch {batch_num} saved to {model_path}\")\n",
    "\n",
    "    # ---------- Anomaly Detection for the Batch ----------\n",
    "    autoencoder.eval()\n",
    "    with torch.no_grad():\n",
    "        X_reconstructed = autoencoder(X_tensor.to(device)).cpu().numpy()\n",
    "\n",
    "    # Reconstruction Error\n",
    "    reconstruction_errors = np.mean((X_scaled - X_reconstructed) ** 2, axis=1)\n",
    "\n",
    "    # Anomaly Detection (Top 5% as Anomalies)\n",
    "    threshold = np.percentile(reconstruction_errors, 95)\n",
    "    anomalies = reconstruction_errors > threshold\n",
    "\n",
    "    # Save Anomaly Results\n",
    "    df['reconstruction_error'] = reconstruction_errors\n",
    "    df['anomaly'] = anomalies.astype(int)\n",
    "\n",
    "    result_file = os.path.join(output_folder, f\"anomaly_results_batch_{batch_num}.csv\")\n",
    "    df.to_csv(result_file, index=False)\n",
    "    print(f\"✅ Anomaly results for Batch {batch_num} saved to {result_file}\")\n",
    "    print(f\"🔔 Detected {df['anomaly'].sum()} anomalies out of {len(df)} rows in Batch {batch_num}\")\n",
    "\n",
    "print(\"\\n✅ All batches processed for anomaly detection.\")\n"
   ]
  }
 ],
 "metadata": {
  "kernelspec": {
   "display_name": "swat",
   "language": "python",
   "name": "python3"
  },
  "language_info": {
   "codemirror_mode": {
    "name": "ipython",
    "version": 3
   },
   "file_extension": ".py",
   "mimetype": "text/x-python",
   "name": "python",
   "nbconvert_exporter": "python",
   "pygments_lexer": "ipython3",
   "version": "3.12.9"
  }
 },
 "nbformat": 4,
 "nbformat_minor": 2
}
